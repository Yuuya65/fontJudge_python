{
  "nbformat": 4,
  "nbformat_minor": 0,
  "metadata": {
    "colab": {
      "name": "fontJudge.ipynb",
      "provenance": [],
      "collapsed_sections": [
        "Sauub6b0_T0t"
      ],
      "mount_file_id": "1XeV9GnxMJmPQqFdZBYfQ1bYuT34eK67L",
      "authorship_tag": "ABX9TyNn8URrHrNC/64+G7AS/bnI",
      "include_colab_link": true
    },
    "kernelspec": {
      "name": "python3",
      "display_name": "Python 3"
    },
    "language_info": {
      "name": "python"
    }
  },
  "cells": [
    {
      "cell_type": "markdown",
      "metadata": {
        "id": "view-in-github",
        "colab_type": "text"
      },
      "source": [
        "<a href=\"https://colab.research.google.com/github/Yuuya65/fontJudge_python/blob/main/fontJudge.ipynb\" target=\"_parent\"><img src=\"https://colab.research.google.com/assets/colab-badge.svg\" alt=\"Open In Colab\"/></a>"
      ]
    },
    {
      "cell_type": "markdown",
      "source": [
        "# 前処理\n",
        "\n",
        "画像の種類\n",
        "\n",
        "* ゴシック体\n",
        "* 教科書体\n",
        "* 明朝体\n",
        "* 行書体\n",
        "* 丸文字"
      ],
      "metadata": {
        "id": "Sauub6b0_T0t"
      }
    },
    {
      "cell_type": "markdown",
      "source": [
        "## 画像を正方形にする"
      ],
      "metadata": {
        "id": "eVZGKY0E_ZKN"
      }
    },
    {
      "cell_type": "code",
      "source": [
        "import cv2\n",
        "import numpy as np\n",
        "\n",
        "def createImg(img_contraction):\n",
        "  \"\"\"収縮した画像に余白を付け足して正方形にする\n",
        "  Parameters:\n",
        "  ----------\n",
        "  img_contraction : array\n",
        "    200 x 100 (100 x 200)の配列\n",
        "\n",
        "  Return:\n",
        "  ----------\n",
        "  new_img : array\n",
        "    200 x 200 の配列\n",
        "  \"\"\"\n",
        "  tmp = img_contraction[:, :]\n",
        "  height, width = img_contraction.shape[:2]\n",
        "\n",
        "  ## 長編を正方形の一片の長さにする\n",
        "  if(height > width):\n",
        "    size = height\n",
        "    limit = width\n",
        "  else:\n",
        "    size = width\n",
        "    limit = height\n",
        "\n",
        "  start = int((size - limit) / 2)\n",
        "  fin = int((size + limit) / 2)\n",
        "\n",
        "  ## 新しい正方形を作成\n",
        "  new_img = cv2.resize(np.full((1, 1, 3), 255, np.uint8), (size, size))\n",
        "\n",
        "  ## 新しく作った正方形の中心に画像（長方形）を貼り付けする\n",
        "  if(size == height):\n",
        "    new_img[:, start:fin] = tmp\n",
        "  else:\n",
        "    new_img[start:fin, :] = tmp\n",
        "\n",
        "  return new_img"
      ],
      "metadata": {
        "id": "AuNDPGpS_U3g"
      },
      "execution_count": null,
      "outputs": []
    },
    {
      "cell_type": "code",
      "source": [
        "import os\n",
        "import cv2\n",
        "\n",
        "file_path = \"/content/drive/MyDrive/data/img_original\"\n",
        "img_path_array = []\n",
        "\n",
        "files = os.listdir(file_path)\n",
        "\n",
        "for file in files:\n",
        "  img = cv2.imread(file_path + \"/\" + file)\n",
        "  out_img = createImg(img)\n",
        "  cv2.imwrite((\"/content/drive/MyDrive/data/img_square/\" + file), out_img)"
      ],
      "metadata": {
        "id": "0w5GSzkv_foq"
      },
      "execution_count": null,
      "outputs": []
    },
    {
      "cell_type": "markdown",
      "source": [
        "## 画像のサイズ統一と色反転"
      ],
      "metadata": {
        "id": "St9ZUkSrCC_m"
      }
    },
    {
      "cell_type": "code",
      "source": [
        "import os\n",
        "from PIL import Image, ImageOps\n",
        "\n",
        "file_path = \"/content/drive/MyDrive/data/img_square\"      ## インポートする画像が格納されたファイルパス\n",
        "file_out_path = \"/content/drive/MyDrive/data/img_resize\"  ## 画像の保存先のファイルパス\n",
        "img_path_array = []\n",
        "\n",
        "files = os.listdir(file_path)\n",
        "\n",
        "for file in files:\n",
        "  img_path = file_path + \"/\" + file\n",
        "  out_path = file_out_path + \"/\" + file\n",
        "\n",
        "  img = Image.open(img_path)      ## 画像を開ける\n",
        "  out_img = ImageOps.invert(img)  ## 画像の色を反転\n",
        "  out_img = out_img.resize((100, 100), Image.LANCZOS) ## 画像サイズを統一\n",
        "  out_img.save(out_path)          ## 画像を保存"
      ],
      "metadata": {
        "id": "iCQim-sRCK-2"
      },
      "execution_count": null,
      "outputs": []
    },
    {
      "cell_type": "markdown",
      "source": [
        "## 余白追加"
      ],
      "metadata": {
        "id": "lSJZjR5AnJft"
      }
    },
    {
      "cell_type": "code",
      "source": [
        "import os\n",
        "import cv2\n",
        "\n",
        "file_path = \"/content/drive/MyDrive/data/img_resize\"        ## インポートする画像が格納されたファイルパス\n",
        "file_out_path = \"/content/drive/MyDrive/data/img_addMargin\" ## 画像の保存先のファイルパス\n",
        "img_path_array = []\n",
        "\n",
        "files = os.listdir(file_path)\n",
        "\n",
        "for file in files:\n",
        "  img_path = file_path + \"/\" + file\n",
        "  out_path = file_out_path + \"/\" + file \n",
        "  \n",
        "  img = cv2.imread(img_path)\n",
        "  out_img = cv2.copyMakeBorder(img, 25, 25, 25, 25, cv2.BORDER_CONSTANT, value=[0,0,0]) ## 余白の追加\n",
        "  \n",
        "  cv2.imwrite(out_path, out_img)"
      ],
      "metadata": {
        "id": "i6QV6ERlm8Rz"
      },
      "execution_count": null,
      "outputs": []
    },
    {
      "cell_type": "markdown",
      "source": [
        "# 学習データの作成\n",
        "\n",
        "変換表\n",
        "\n",
        "* ゴシック体「あ」：0 ゴシック体「い」：1 ゴシック体「う」：2 ゴシック体「え」：3 ゴシック体「お」：4\n",
        "* 教科書体　「あ」：5 教科書体　「い」：6 教科書体　「う」：7 教科書体　「え」：8 教科書体　「お」：9\n",
        "* 明朝体　　「あ」：10 明朝体　　「い」：11 明朝体　　「う」：12 明朝体　　「え」：13 明朝体　　「お」：14\n",
        "* 行書体　　「あ」：15 行書体　　「い」：16 行書体　　「う」：17 行書体　　「え」：18 行書体　　「お」：19\n",
        "* 丸文字体　「あ」：20 丸文字体　「い」：21 丸文字体　「う」：22 丸文字体　「え」：23 丸文字体　「お」：24\n",
        "\n"
      ],
      "metadata": {
        "id": "HmAQTObHnxWM"
      }
    },
    {
      "cell_type": "code",
      "source": [
        "def label_config(name):\n",
        "  \"\"\" labelを設定する\n",
        "  Parameters:\n",
        "  ----------\n",
        "  name : string\n",
        "    画像の名前\n",
        "  Return:\n",
        "  ----------\n",
        "  label : int\n",
        "  \"\"\"\n",
        "\n",
        "  label = 0       ## 画像の答え\n",
        "  name = name.replace(\".jpg\", \"\")\n",
        "\n",
        "  if name == 'Gothic(1)':\n",
        "    label = 0\n",
        "  elif name == 'Gothic(2)':\n",
        "    label = 1\n",
        "  elif name == 'Gothic(3)':\n",
        "    label = 2\n",
        "  elif name == 'Gothic(4)':\n",
        "    label = 3\n",
        "  elif name == 'Gothic(5)':\n",
        "    label = 4\n",
        "  elif name == 'Kyoukasyo(1)':\n",
        "    label = 5\n",
        "  elif name == 'Kyoukasyo(2)':\n",
        "    label = 6\n",
        "  elif name == 'Kyoukasyo(3)':\n",
        "    label = 7\n",
        "  elif name == 'Kyoukasyo(4)':\n",
        "    label = 8\n",
        "  elif name == 'Kyoukasyo(5)':\n",
        "    label = 9\n",
        "  elif name == 'Minch(1)':\n",
        "    label = 10\n",
        "  elif name == 'Minch(2)':\n",
        "    label = 11\n",
        "  elif name == 'Minch(3)':\n",
        "    label = 12\n",
        "  elif name == 'Minch(4)':\n",
        "    label = 13\n",
        "  elif name == 'Minch(5)':\n",
        "    label = 14\n",
        "  elif name == 'gyousyo(1)':\n",
        "    label = 15\n",
        "  elif name == 'gyousyo(2)':\n",
        "    label = 16\n",
        "  elif name == 'gyousyo(3)':\n",
        "    label = 17\n",
        "  elif name == 'gyousyo(4)':\n",
        "    label = 18\n",
        "  elif name == 'gyousyo(5)':\n",
        "    label = 19\n",
        "  elif name == 'maru(1)':\n",
        "    label = 20\n",
        "  elif name == 'maru(2)':\n",
        "    label = 21\n",
        "  elif name == 'maru(3)':\n",
        "    label = 22\n",
        "  elif name == 'maru(4)':\n",
        "    label = 23\n",
        "  elif name == 'maru(5)':\n",
        "    label = 24\n",
        "\n",
        "  return label"
      ],
      "metadata": {
        "id": "YTbHKHv0qyL0"
      },
      "execution_count": null,
      "outputs": []
    },
    {
      "cell_type": "code",
      "source": [
        "import csv\n",
        "import os\n",
        "from PIL import Image\n",
        "import numpy as np\n",
        "\n",
        "file_path = \"/content/drive/MyDrive/data/img_addMargin\" ## 画像が格納されたファイルパス\n",
        "train_path = \"/content/drive/MyDrive/data/train.csv\"    ## 学習データの保存先のファイルパス\n",
        "\n",
        "files = os.listdir(file_path)\n",
        "\n",
        "with open(train_path, \"w\", encoding=\"utf-8\") as f:\n",
        "  writer = csv.writer(f)\n",
        "\n",
        "  for file in files:\n",
        "    img_path = file_path + \"/\" + file\n",
        "\n",
        "    img = Image.open(img_path)                ## 画像を開ける\n",
        "    img = img.resize((80, 80), Image.LANCZOS) ## 画像サイズを「80 x 80」に変更\n",
        "\n",
        "    label_num = label_config(file)            ## label(画像の答え)\n",
        "\n",
        "    for i in range(-5, 6):                    ## 画像を5度ずつ回転させる\n",
        "      out_img = img.rotate((i * 5), resample=Image.BICUBIC)\n",
        "\n",
        "      array = np.array(out_img, dtype='uint8')\n",
        "      array = np.ravel(array)                 ## 数字を一列にする (3次元配列を1次元配列にする)\n",
        "      array = array[::3]                      ## 白黒画像なのでRGB値の最初の値だけ保存する\n",
        "      array = np.append(label_num, array)     ## 配列の1つ目の要素に画像の答えを、2つ目以降に画像のRGB値を格納する\n",
        "\n",
        "      writer.writerow(array)                  ## csvに書き込み"
      ],
      "metadata": {
        "id": "coq2QHuZn1QI"
      },
      "execution_count": null,
      "outputs": []
    },
    {
      "cell_type": "markdown",
      "source": [
        "# 学習モデルの作成"
      ],
      "metadata": {
        "id": "Psx70sbKuBek"
      }
    },
    {
      "cell_type": "code",
      "source": [
        "import numpy as np\n",
        "import csv\n",
        "\n",
        "train_path = \"/content/drive/MyDrive/data/train.csv\"  ## 学習データのパス\n",
        "\n",
        "with open(train_path, \"r\", encoding=\"utf-8\") as file: ## csv形式のファイルを読み込む\n",
        "  csvreader = csv.reader(file)\n",
        "  mnist_list = []\n",
        "  for row in csvreader:\n",
        "    mnist_list.append(row)\n",
        "\n",
        "array = np.array(mnist_list)\n",
        "\n",
        "## 学習データのデータ\n",
        "data = np.array(array[:,1:], dtype='uint8')\n",
        "data = data.reshape(275, 80, 80)      ## CSVで保存する際、一次元配列に変換していたので、元の三次元配列へと戻す\n",
        "\n",
        "## 学習データのラベル\n",
        "label = np.array(array[:,:1], dtype='uint8')\n",
        "label = label.reshape(275)            ## CSVで保存する際、一次元配列に変換していたので、元の三次元配列へと戻す"
      ],
      "metadata": {
        "id": "8Teb6i-MsvpA"
      },
      "execution_count": null,
      "outputs": []
    },
    {
      "cell_type": "code",
      "source": [
        "import tensorflow as tf     ## 深層学習を行うためのライブラリをインポートします\n",
        "\n",
        "model = tf.keras.Sequential([\n",
        "    tf.keras.layers.Flatten(input_shape=(80, 80)),  ## 入力層\n",
        "    tf.keras.layers.Dropout(0.25),                  ## ドロップアウト\n",
        "    tf.keras.layers.Dense(400, activation='relu'),  ## 隠れ層 (\"400\"となっているのがニューロン数、\"activation\"で活性化関数を指定)\n",
        "    tf.keras.layers.Dropout(0.25),                  ## ドロップアウト\n",
        "    tf.keras.layers.Dense(25, activation=\"softmax\") ## 出力層\n",
        "])\n",
        "\n",
        "model.compile(optimizer='adam',\n",
        "    loss=tf.keras.losses.SparseCategoricalCrossentropy(from_logits=True),\n",
        "    metrics=['accuracy'])\n",
        "## optimizer...最適化, loss...損失関数(交差エントロピー), metrics...尺度(精度),\n",
        "\n",
        "print(model.summary())                              ## モデルの要約を出力"
      ],
      "metadata": {
        "colab": {
          "base_uri": "https://localhost:8080/"
        },
        "id": "D0tPkp5DuvOp",
        "outputId": "511d3f62-6a0a-495c-9e97-9b45f8d6da1a"
      },
      "execution_count": null,
      "outputs": [
        {
          "output_type": "stream",
          "name": "stdout",
          "text": [
            "Model: \"sequential_1\"\n",
            "_________________________________________________________________\n",
            " Layer (type)                Output Shape              Param #   \n",
            "=================================================================\n",
            " flatten_1 (Flatten)         (None, 6400)              0         \n",
            "                                                                 \n",
            " dropout_2 (Dropout)         (None, 6400)              0         \n",
            "                                                                 \n",
            " dense_3 (Dense)             (None, 400)               2560400   \n",
            "                                                                 \n",
            " dropout_3 (Dropout)         (None, 400)               0         \n",
            "                                                                 \n",
            " dense_4 (Dense)             (None, 25)                10025     \n",
            "                                                                 \n",
            "=================================================================\n",
            "Total params: 2,570,425\n",
            "Trainable params: 2,570,425\n",
            "Non-trainable params: 0\n",
            "_________________________________________________________________\n",
            "None\n"
          ]
        }
      ]
    },
    {
      "cell_type": "code",
      "source": [
        "model.fit(data, label, epochs=3)\n",
        "## data...学習データのデータ(RGB値), label...学習データの答え, epochs...学習を繰り返す回数"
      ],
      "metadata": {
        "colab": {
          "base_uri": "https://localhost:8080/"
        },
        "id": "eC5flMgbvZ52",
        "outputId": "db592ba0-b01b-4979-82d8-b41c32260992"
      },
      "execution_count": null,
      "outputs": [
        {
          "output_type": "stream",
          "name": "stdout",
          "text": [
            "Epoch 1/3\n"
          ]
        },
        {
          "output_type": "stream",
          "name": "stderr",
          "text": [
            "/usr/local/lib/python3.7/dist-packages/tensorflow/python/util/dispatch.py:1082: UserWarning: \"`sparse_categorical_crossentropy` received `from_logits=True`, but the `output` argument was produced by a sigmoid or softmax activation and thus does not represent logits. Was this intended?\"\n",
            "  return dispatch_target(*args, **kwargs)\n"
          ]
        },
        {
          "output_type": "stream",
          "name": "stdout",
          "text": [
            "9/9 [==============================] - 1s 22ms/step - loss: 160.5920 - accuracy: 0.3273\n",
            "Epoch 2/3\n",
            "9/9 [==============================] - 0s 21ms/step - loss: 32.5636 - accuracy: 0.7309\n",
            "Epoch 3/3\n",
            "9/9 [==============================] - 0s 20ms/step - loss: 11.2778 - accuracy: 0.8836\n"
          ]
        },
        {
          "output_type": "execute_result",
          "data": {
            "text/plain": [
              "<keras.callbacks.History at 0x7f8eda717950>"
            ]
          },
          "metadata": {},
          "execution_count": 9
        }
      ]
    },
    {
      "cell_type": "markdown",
      "source": [
        "# 手書き文字を作成する\n",
        "\n",
        "http://fontjudge.html.xdomain.jp/"
      ],
      "metadata": {
        "id": "Ug8NKu9vwqPy"
      }
    },
    {
      "cell_type": "code",
      "source": [
        "## Google Colaboratory に手書き文字のファイルをアップロードする\n",
        "from google.colab import files\n",
        "\n",
        "uploaded = files.upload()\n",
        "\n",
        "for fn in uploaded.keys():\n",
        "  print('User uploaded file \"{name}\" with length {length} bytes'.format(name=fn, length=len(uploaded[fn])))"
      ],
      "metadata": {
        "colab": {
          "resources": {
            "http://localhost:8080/nbextensions/google.colab/files.js": {
              "data": "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",
              "ok": true,
              "headers": [
                [
                  "content-type",
                  "application/javascript"
                ]
              ],
              "status": 200,
              "status_text": ""
            }
          },
          "base_uri": "https://localhost:8080/"
        },
        "id": "sP7hOPQVviJX",
        "outputId": "5e84aeb8-3718-40f5-ef92-e70f7941de63"
      },
      "execution_count": null,
      "outputs": [
        {
          "output_type": "display_data",
          "data": {
            "text/html": [
              "\n",
              "     <input type=\"file\" id=\"files-af075cb4-03ab-41c2-b742-21ab46649d96\" name=\"files[]\" multiple disabled\n",
              "        style=\"border:none\" />\n",
              "     <output id=\"result-af075cb4-03ab-41c2-b742-21ab46649d96\">\n",
              "      Upload widget is only available when the cell has been executed in the\n",
              "      current browser session. Please rerun this cell to enable.\n",
              "      </output>\n",
              "      <script src=\"/nbextensions/google.colab/files.js\"></script> "
            ],
            "text/plain": [
              "<IPython.core.display.HTML object>"
            ]
          },
          "metadata": {}
        },
        {
          "output_type": "stream",
          "name": "stdout",
          "text": [
            "Saving canvas.png to canvas.png\n",
            "User uploaded file \"canvas.png\" with length 15268 bytes\n"
          ]
        }
      ]
    },
    {
      "cell_type": "code",
      "source": [
        "import cv2\n",
        "import numpy as np\n",
        "\n",
        "img_path = \"/content/canvas.png\"  ## アップロードした画像ファイルパス\n",
        "img = cv2.imread(img_path)\n",
        "\n",
        "img = cv2.bitwise_not(img)        ## 画像の白黒反転\n",
        "img = cv2.resize(img, dsize=(400, 80))\n",
        "img = img.ravel()                 ## 平坦化\n",
        "img = img[2::3]                   ## 2から始めることで、黄色（枠の部分）を消す\n",
        "img = img.reshape(80, 400)        ## reshapeで一次元配列を二次元配列にする\n",
        "\n",
        "img_array = []\n",
        "\n",
        "for i in range(5):                ## 文字ごとに切り分ける\n",
        "  start_num = i * 80\n",
        "  buf_array = []\n",
        "  for j in range(80):\n",
        "    buf_array.append(img[j][start_num:(start_num + 80)])\n",
        "\n",
        "  img_array.append(buf_array)\n",
        "\n",
        "img_array = np.array(img_array)"
      ],
      "metadata": {
        "id": "HPcslo0-xYw6"
      },
      "execution_count": null,
      "outputs": []
    },
    {
      "cell_type": "markdown",
      "source": [
        "# 予測・判定"
      ],
      "metadata": {
        "id": "CEJy0b5zwhhz"
      }
    },
    {
      "cell_type": "code",
      "source": [
        "## ラベルと画像の名前の変換\n",
        "class_names = [\n",
        "  'gothic_a', 'gothic_i', 'gothic_u', 'gothic_e', 'gothic_o', \n",
        "  'gyousyo_a', 'gyousyo_i', 'gyousyo_u', 'gyousyo_e', 'gyousyo_o', \n",
        "  'kyoukasyo_a', 'kyoukasyo_i', 'kyoukasyo_u', 'kyoukasyo_e', 'kyoukasyo_o', \n",
        "  'maru_a', 'maru_i', 'maru_u', 'maru_e', 'maru_o',\n",
        "  'minch_a', 'minch_i', 'minch_u', 'minch_e', 'minch_o'\n",
        "]\n",
        "\n",
        "def plot_img(i, predictions_array, img_array):\n",
        "  img = img_array[i]\n",
        "  plt.grid(False)\n",
        "  plt.xticks([])\n",
        "  plt.yticks([])\n",
        "\n",
        "  plt.imshow(img, cmap=plt.cm.binary)\n",
        "\n",
        "  predicted_label = np.argmax(predictions_array)\n",
        "\n",
        "  plt.xlabel(\"{} {:2.0f}%\".format(class_names[predicted_label],100*np.max(predictions_array)), color='blue')"
      ],
      "metadata": {
        "id": "EUY8uprd0Cjr"
      },
      "execution_count": null,
      "outputs": []
    },
    {
      "cell_type": "code",
      "source": [
        "import matplotlib.pyplot as plt       ## 描写するライブラリ\n",
        "\n",
        "predict = model.predict(img_array)    ## 手書き文字の画像をモデルを用いて予測・判定させる\n",
        "for i in range(5):                    ## 画像を1つずつ読み込む\n",
        "  print(\"-------------------- 判定結果 --------------------\\n\")\n",
        "  print(\"〝\" + class_names[np.argmax(predict[i])] + \"〟と判定しました。\\n\")\n",
        "\n",
        "  plt.figure(figsize=(2,1))\n",
        "  plt.subplot(1,2,1)\n",
        "  plot_img(i, predict[i], img_array)\n",
        "  plt.show()"
      ],
      "metadata": {
        "colab": {
          "base_uri": "https://localhost:8080/",
          "height": 764
        },
        "id": "pnYtUOa-zF2Q",
        "outputId": "b1232b9e-a85d-4a43-f70e-bc9af2d481da"
      },
      "execution_count": null,
      "outputs": [
        {
          "output_type": "stream",
          "name": "stdout",
          "text": [
            "-------------------- 判定結果 --------------------\n",
            "\n",
            "〝kyoukasyo_a〟と判定しました。\n",
            "\n"
          ]
        },
        {
          "output_type": "display_data",
          "data": {
            "image/png": "[encoded data removed]",
            "text/plain": [
              "<Figure size 144x72 with 1 Axes>"
            ]
          },
          "metadata": {}
        },
        {
          "output_type": "stream",
          "name": "stdout",
          "text": [
            "-------------------- 判定結果 --------------------\n",
            "\n",
            "〝kyoukasyo_i〟と判定しました。\n",
            "\n"
          ]
        },
        {
          "output_type": "display_data",
          "data": {
            "image/png": "[encoded data removed]",
            "text/plain": [
              "<Figure size 144x72 with 1 Axes>"
            ]
          },
          "metadata": {}
        },
        {
          "output_type": "stream",
          "name": "stdout",
          "text": [
            "-------------------- 判定結果 --------------------\n",
            "\n",
            "〝maru_u〟と判定しました。\n",
            "\n"
          ]
        },
        {
          "output_type": "display_data",
          "data": {
            "image/png": "[encoded data removed]",
            "text/plain": [
              "<Figure size 144x72 with 1 Axes>"
            ]
          },
          "metadata": {}
        },
        {
          "output_type": "stream",
          "name": "stdout",
          "text": [
            "-------------------- 判定結果 --------------------\n",
            "\n",
            "〝gyousyo_e〟と判定しました。\n",
            "\n"
          ]
        },
        {
          "output_type": "display_data",
          "data": {
            "image/png": "[encoded data removed]",
            "text/plain": [
              "<Figure size 144x72 with 1 Axes>"
            ]
          },
          "metadata": {}
        },
        {
          "output_type": "stream",
          "name": "stdout",
          "text": [
            "-------------------- 判定結果 --------------------\n",
            "\n",
            "〝kyoukasyo_a〟と判定しました。\n",
            "\n"
          ]
        },
        {
          "output_type": "display_data",
          "data": {
            "image/png": "[encoded data removed]",
            "text/plain": [
              "<Figure size 144x72 with 1 Axes>"
            ]
          },
          "metadata": {}
        }
      ]
    }
  ]
}